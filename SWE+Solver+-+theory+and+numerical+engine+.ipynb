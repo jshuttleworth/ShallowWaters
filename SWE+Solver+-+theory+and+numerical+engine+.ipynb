{
 "cells": [
  {
   "cell_type": "markdown",
   "metadata": {},
   "source": [
    "# Simple Shallow Water Equations Solver\n",
    "\n",
    "## Theory\n",
    "\n",
    "The three-dimensional Navier Stokes equations can be simplified to give the St Venant equations to express the conservation of mass and momentum along the flow direction and describe one dimensional fluid flow. They can be written in their general form as below: \n",
    " \n",
    "$$\n",
    "\\frac{\\partial Q}{\\partial x} + \\frac{\\partial A}{\\partial t}=0\n",
    "$$\n",
    "\n",
    "$$\n",
    "\\frac{1}{A} \\frac{\\partial Q}{\\partial t} + \\frac{1}{A}\\frac{\\partial}{\\partial x}(\\frac{Q^2}{A}) + g \\frac{\\partial y}{\\partial x} - g(S_o - S_f) = 0\n",
    "$$\n",
    "\n",
    "where $Q$ is the discharge, $A$ is the area of cross section, $y$ is the height of the water above a datum and $S_o$ and $S_f$ are the channel bottom slope and friction slope respectively.\n",
    "\n",
    "It should be noted that the above form is non conservative but can be rearranged as below to to give their conservative form in order to preserve any shocks present. This formulation was proposed by Rogers and is based balancing of forces deviating away from the still water state by subtracting the static state conditions equations from the above. Providing the following formulation. \n",
    "\n",
    "\\begin{equation}\n",
    "X =  \\Bigg[\n",
    "\\begin{matrix}{c}\n",
    "h \\\\\n",
    "Q\n",
    "\\end{matrix}\n",
    "\\Bigg]\n",
    "\\end{equation}\n",
    ",\n",
    "\\begin{equation}\n",
    "F =  \\Bigg[\n",
    "\\begin{matrix}\n",
    "Q \\\\\n",
    "\\dfrac{Q^2}{h+y} + \\dfrac{gh^2}{2} + ghy\n",
    "\\end{matrix}\n",
    "\\Bigg]\n",
    "\\end{equation}\n",
    "and\n",
    "\\begin{equation}\n",
    "G =  \\Bigg[\n",
    "\\begin{matrix}\n",
    "0 \\\\\n",
    "-gh\\dfrac{\\partial h}{\\partial x} - \\dfrac{gQ^2}{(h+y)^2 c^2}\n",
    "\\end{matrix}\n",
    "\\Bigg]\n",
    "\\end{equation}\n",
    "\n",
    "## Numerical Method\n",
    "\n",
    "The St Venant equations can be solved through the implementation of the finite difference MacCormack method with an additional term added to fulfil Total Variation Diminishing (TVD) requirements. The MacCormack-TVD method solves both of the equations  at each time step with regards to the time derivative to give a value for _h_ and _Q_ at the next time step. This method was first proposed by Davis and then applied to the Shallow Water Equations by Mingham and Liang . As was noted earlier this two step approach is chosen over a single step method, like the explicit Euler or Lax Wendroff schemes, as the source term can be easily treated to get second order accuracy in both space and time.\n",
    "\n",
    "The McCormack two step procedure is defined as below.\n",
    "\n",
    "\\begin{equation}\n",
    "U_j^p = U_{j^n} -  \\lambda (F_{j+1}^n - F_j^n) - \\Delta tV_j^n - \\Delta tT_j^n- \\Delta tS_j^n\n",
    "\\end{equation}\n",
    "\n",
    "\\begin{equation}\n",
    "U_j^c = U_j^n -  \\lambda (F_j^p - F_{j-1}^p) - \\Delta tV_j^p - \\Delta tT_j^n - \\Delta tS_j^n\n",
    "\\end{equation} \n",
    "\n",
    "where the super indexes _p_ and _c_ stand for predictor and corrector steps, $ \\lambda = \\frac{ \\Delta t}{ \\Delta x}$. \n",
    "\n",
    "In the McCormack method the solution becomes the average of the predictor and corrector steps. \n",
    "\n",
    "\\begin{equation}\n",
    "U_j^{n+1} = \\frac{1}{2} (U_j^p + U_j^c)\n",
    "\\end{equation} \n",
    "\n",
    "With the addition of the TVD term, as proposed by Mingham for the shallow water equations, this becomes. \n",
    "\n",
    "\\begin{equation}\n",
    "U_j^{n+1} = \\frac{1}{2} (U_j^p + U_j^c) + (G(r_i^+) + G(r_{i+1}^-)) \\Delta U_{i + \\frac{1}{2}} - (G(r_{i+1}^+)+G(r_i^1)) \\Delta U_{1- \\frac{1}{2}}))\n",
    "\\end{equation}\n",
    "\n",
    "in which the function $G( )$ is defined as. \n",
    "\n",
    "\\begin{equation}\n",
    "G(x) = 0.5C(1 - \\phi (x)\n",
    "\\end{equation}\n",
    "\n",
    "$ \\phi (x) $ is the flux limited function and is given as\n",
    "\n",
    "\\begin{equation}\n",
    "\\phi (x) = max(0,min(2x,1))\n",
    "\\end{equation}\n",
    "\n",
    "and the variable C is defined relative to the local Courant number by. \n",
    "\n",
    "\\begin{equation*}\n",
    " C = \\begin{cases}\n",
    "       Cr(1-Cr),  & Cr \\leq 0.5\n",
    "       \\\\\n",
    "       0.25 ,   & Cr > 0.5\n",
    "       \\end{cases}\n",
    "\\end{equation*}\n",
    "\n",
    "and the local Courant number is defined as;\n",
    "\n",
    "\\begin{equation}\n",
    "Cr = \\frac{(|q_x/H| + \\sqrt{gH} \\Delta t}{ \\Delta x}\n",
    "\\end{equation}\n",
    "\n",
    "and, finally, in which. \n",
    "\n",
    "\\begin{equation}\n",
    "\\Delta U_{i + \\frac{1}{2}} = U_{i+1}^n - U_i^n\n",
    "\\end{equation}\n",
    "\n",
    "\\begin{equation}\n",
    "\\Delta U_{i - \\frac{1}{2}} = U_i^n - U_{i-1}^n\n",
    "\\end{equation}\n",
    "\n",
    "and the ratio of gradients is defined by. \n",
    "\n",
    "\\begin{equation} \n",
    "r_i^+ = \\frac{ \\Delta h_{i - \\frac{1}{2}}^n . \\Delta h_{i + \\frac{1}{2}}^n + \\Delta q_{i - \\frac{1}{2}}^n . \\Delta q_{i + \\frac{1}{2}}^n }{ \\Delta h_{i + \\frac{1}{2}}^n . \\Delta h_{i + \\frac{1}{2}}^n + \\Delta q_{i + \\frac{1}{2}}^n . \\Delta q_{i + \\frac{1}{2}}^n}\n",
    "\\end{equation}\n",
    "\n",
    "\\begin{equation}\n",
    "r_i^- = \\frac{ \\Delta h_{i - \\frac{1}{2}}^n . \\Delta h_{i + \\frac{1}{2}}^n + \\Delta q_{i - \\frac{1}{2}}^n . \\Delta q_{i + \\frac{1}{2}}^n }{ \\Delta h_{i - \\frac{1}{2}}^n . \\Delta h_{i - \\frac{1}{2}}^n + \\Delta q_{i - \\frac{1}{2}}^n . \\Delta q_{i - \\frac{1}{2}}^n}\n",
    "\\end{equation}\n",
    "\n",
    "This algorithm is computationally efficient as there is no need to calculate the eigenvalues or eigenvectors and that the majority of the constituents of the TVD term have already been calculated. The scheme does not require transformation, so can be used without modification for non-linear problems. Importantly although a lot of studies implement the Lax-Wendroff method, which is a one step finite difference method, the MacCormack method has the advantage of being able to get a second-order accurate result when considering the source term.\n",
    " \n",
    " \n",
    "# Implementation in Python\n",
    "## Import Packages\n",
    "\n",
    "The implementation of this algorithm involves the vector manipulation, to do that we need to use the Python library Numpy. To visualize the solutions we need to use pyplot.\n"
   ]
  },
  {
   "cell_type": "code",
   "execution_count": 87,
   "metadata": {
    "collapsed": true
   },
   "outputs": [],
   "source": [
    "import numpy\n",
    "from matplotlib import pyplot"
   ]
  },
  {
   "cell_type": "markdown",
   "metadata": {},
   "source": [
    "## Declaration of Fixed Variables and Definition of Grid\n",
    "\n",
    "The one dimensional domain is a fixed length L and is split into a uniform grid defined by the distance between the points, dx. There are also fixed variables which determine the length of the simulatiom, TimeSim, the gravitational acceleration force, g, a marker which determines whether the TVD term is included, the ratio of dt/dx, k and a vector x which is used to plot the results later.   "
   ]
  },
  {
   "cell_type": "code",
   "execution_count": 88,
   "metadata": {
    "collapsed": true
   },
   "outputs": [],
   "source": [
    "dt =1.0\n",
    "dx = 10.0\n",
    "nx = 50\n",
    "L = 500\n",
    "g = 9.807\n",
    "k= dt/dx\n",
    "TimeSim = 10\n",
    "TVDChoice = 1.0\n",
    "t = 0\n",
    "x = list(range(nx))"
   ]
  },
  {
   "cell_type": "markdown",
   "metadata": {},
   "source": [
    "## Domain Descriptors and Initial Conditions\n",
    "\n",
    "Next we need to define the case specific variables which describe the domain. This include the initial values for the discharge and height, the bathymetry through the channel, it also resets the values for the predictor and corrector dummy variables used in the two step maccormack method and calculates the water depth at each grid point. "
   ]
  },
  {
   "cell_type": "code",
   "execution_count": 89,
   "metadata": {},
   "outputs": [],
   "source": [
    "height = 0.5\n",
    "Qin = 0.1\n",
    "Hin = 0.5\n",
    "z =numpy.zeros(nx)\n",
    "h = numpy.ones(nx)*height\n",
    "for i in range(25,nx):\n",
    "    h[i]=0.2\n",
    "q = numpy.ones(nx)*0.01\n",
    "flux=numpy.zeros(nx)\n",
    "hpredictor = h\n",
    "hcorrector = h\n",
    "qpredictor = q\n",
    "qcorrector = q\n",
    "\n",
    "TVDcont = numpy.zeros(nx)\n",
    "TVDmom = numpy.zeros(nx)\n",
    "cr = numpy.zeros(nx)\n",
    "Grplus = numpy.zeros(nx)\n",
    "Grminus = numpy.zeros(nx)\n",
    "hnew = h\n",
    "qnew = q\n",
    "depth = h-z"
   ]
  },
  {
   "cell_type": "markdown",
   "metadata": {},
   "source": [
    "If we plot the initial conditions we can see that this is being set up as a dam break - this isn't based on any analytical solutions. Just as a demo. If you want you can change it to any form you want! "
   ]
  },
  {
   "cell_type": "code",
   "execution_count": 90,
   "metadata": {},
   "outputs": [
    {
     "data": {
      "image/png": "[encoded data removed]",
      "text/plain": [
       "<matplotlib.figure.Figure at 0x8dc2438>"
      ]
     },
     "metadata": {},
     "output_type": "display_data"
    }
   ],
   "source": [
    "pyplot.clf()\n",
    "pyplot.plot(x,h)\n",
    "pyplot.show()"
   ]
  },
  {
   "cell_type": "markdown",
   "metadata": {},
   "source": [
    "## Functions Used\n",
    "\n",
    "Within the main time loop there are several functions\n",
    "\n",
    "### def fluxcalc\n",
    "\n",
    "In both the predictor and corrector steps a flux variable this function calculates the value of that for each of most up do date variable values"
   ]
  },
  {
   "cell_type": "code",
   "execution_count": 91,
   "metadata": {
    "collapsed": true
   },
   "outputs": [],
   "source": [
    "def fluxcalc (q, depth):\n",
    "    for i in range(0,nx):\n",
    "        flux[i] = q[i]**2/depth[i]\n",
    "    return flux"
   ]
  },
  {
   "cell_type": "markdown",
   "metadata": {},
   "source": [
    "### def predictor and def corrector def calc\n",
    "\n",
    "This is just the implementation of the two step MacCormack method to determine the value of the water height and discharge"
   ]
  },
  {
   "cell_type": "code",
   "execution_count": 92,
   "metadata": {
    "collapsed": true
   },
   "outputs": [],
   "source": [
    "def predictor(h,q,flux,g,depth,k, z):\n",
    "    for i in range(1,nx-1):\n",
    "        hpredictor[i] = h[i] - k * (q[i+1] - q[i])\n",
    "        qpredictor[i] = q[i]- k*(flux[i+1]-flux[i])-0.5*k*g*(depth[i]+depth[i+1])*(h[i+1]-h[i])\n",
    "        depth[i] = hpredictor[i] - z[i]\n",
    "    return hpredictor, qpredictor, depth\n",
    "\n",
    "def corrector(h, q, flux, g, depth, hpredictor, qpredictor, k):\n",
    "    for i in range(1,nx-1):\n",
    "        hcorrector[i] = h[i] - k* (qpredictor[i] - qpredictor[i-1])\n",
    "        qcorrector[i] = q[i] - k* (flux[i] - flux[i-1]) - 0.5*k*g * (depth[i]+depth[i-1]) * (h[i]-h[i-1])   \n",
    "    return hcorrector, qcorrector\n",
    "\n",
    "def calc(hcorrector, qcorrector, hpredictor, qpredictor):\n",
    "    for i in range(1, nx-1):\n",
    "        hnew[i] = 0.5*(hpredictor[i] + hcorrector[i])\n",
    "        qnew[i] = 0.5*(qpredictor[i] + qcorrector[i])\n",
    "        depth[i] = hnew[i] - z[i]\n",
    "    return hnew, qnew"
   ]
  },
  {
   "cell_type": "markdown",
   "metadata": {},
   "source": [
    "### def TVD\n",
    "\n",
    "This is an optional modules which calculates the TVD term which is added to the updated water height and discharge terms"
   ]
  },
  {
   "cell_type": "code",
   "execution_count": 93,
   "metadata": {
    "collapsed": true
   },
   "outputs": [],
   "source": [
    "def TVD(h,q,depth,dt,dx):\n",
    "    for i in range(1,nx-1):\n",
    "        hminus = h[i] - h[i-1]\n",
    "        hplus = h[i+1] - h[i]\n",
    "        qminus = q[i] - q[i-1]\n",
    "        qplus = q[i+1] - q[i]\n",
    "        rplus = (hminus*hplus + qminus*qplus)/(hplus*hplus + qplus*qplus)\n",
    "        rminus = (hminus*hplus + qminus*qplus)/(hminus*hminus +qminus*qminus)\n",
    "        sigmaplus = max(0,min(2*rplus,1))\n",
    "        sigmaminus = max(0,min(2*rminus,1))\n",
    "        cr[i] = (abs(q[i]/depth[i]) + np.sqrt(g*depth[i]*dt/dx))\n",
    "        if cr[1] <= 0.5:\n",
    "            c = cr[i] * (1-cr[i])\n",
    "        else:\n",
    "            c = 0.25\n",
    "        Grplus[i] = 0.5*c*(1-sigmaplus)\n",
    "        Grminus[i] = 0.5*c*(1-sigmaminus)\n",
    "    for i in range(1,nx-1):\n",
    "        TVDcont[i] = (Grplus[i] + Grminus[i+1])*(h[i+1]-h[i]) - (Grplus[i-1]+Grminus[i])*(h[i]-h[i+1])\n",
    "        TVDmom[i] = (Grplus[i] + Grminus[i+1])*(q[i+1]-q[i]) - (Grplus[i-1]+Grminus[i])*(q[i]-q[i+1])\n",
    "    return TVDcont, TVDmom"
   ]
  },
  {
   "cell_type": "markdown",
   "metadata": {},
   "source": [
    "### def bound and def resetvalues\n",
    "\n",
    "These two functions reset the updated values to the current values of water height and discharge as well as determining the boundary conditions."
   ]
  },
  {
   "cell_type": "code",
   "execution_count": 94,
   "metadata": {
    "collapsed": true
   },
   "outputs": [],
   "source": [
    "def resetvalues(hnew,qnew,h,q):\n",
    "    h = hnew\n",
    "    q = qnew\n",
    "    depth = h - z\n",
    "    return h, q, depth\n",
    "\n",
    "def bound(q,h,depth,qpredictor,hpredictor):\n",
    "    q[0]=Qin\n",
    "    h[0]=Hin\n",
    "    depth[0]=0.5\n",
    "    qpredictor[0] = Qin\n",
    "    hpredictor[0] = Hin\n",
    "    q[nx-1]=Qin\n",
    "    h[nx-1]=0.2\n",
    "    depth[nx-1]=0.2\n",
    "    qpredictor[nx-1] = Qin\n",
    "    hpredictor[nx-1] = 0.2\n",
    "    return q, h, depth, qpredictor, hpredictor"
   ]
  },
  {
   "cell_type": "markdown",
   "metadata": {},
   "source": [
    "## Master function def MacCormack\n",
    "\n",
    "This function calls the sub functions to implement the MacCormack method with an optional TVD step. Each function determines all the values for the domain at each step before moving onto the next. This is a result of using forward and backward differencing and ensures that all the calculations are performed at the same timestep. "
   ]
  },
  {
   "cell_type": "code",
   "execution_count": 95,
   "metadata": {
    "collapsed": true
   },
   "outputs": [],
   "source": [
    "def MacCormack(h,q,depth,g,k,z):\n",
    "\n",
    "    flux = fluxcalc(q, depth)\n",
    "    hpredictor, qpredictor, depth = predictor(h, q, flux, g, depth, k, z)\n",
    "    flux = fluxcalc(qpredictor, depth)\n",
    "    hcorrector, qcorrector = corrector(h, q, flux, g, depth, hpredictor, qpredictor, k)\n",
    "    hnew, qnew = calc(hcorrector, qcorrector, hpredictor, qpredictor)\n",
    "    if TVDChoice == 1:\n",
    "        TVDcont, TVDmom = TVD(hnew,qnew,depth,dt,dx)\n",
    "        for i in range(1,nx-1):\n",
    "            hnew[i] = hnew[i] + TVDcont[i]\n",
    "            qnew[i] = qnew[i] + TVDmom[i]    \n",
    "    return hnew, qnew, flux"
   ]
  },
  {
   "cell_type": "markdown",
   "metadata": {},
   "source": [
    "## Time stepping loop\n",
    "\n",
    "This calls def MacCormack and then time steps based on a fixed time step, this has to be chosen carefully as if it is too big it can cuase instabilities in the solution, too small and value of k can be too the solution getting stuck. "
   ]
  },
  {
   "cell_type": "code",
   "execution_count": 96,
   "metadata": {},
   "outputs": [
    {
     "name": "stderr",
     "output_type": "stream",
     "text": [
      "C:\\Documents\\Anaconda3\\lib\\site-packages\\ipykernel_launcher.py:7: RuntimeWarning: invalid value encountered in double_scalars\n",
      "  import sys\n",
      "C:\\Documents\\Anaconda3\\lib\\site-packages\\ipykernel_launcher.py:8: RuntimeWarning: invalid value encountered in double_scalars\n",
      "  \n"
     ]
    }
   ],
   "source": [
    "nt = 0\n",
    "while t < TimeSim:\n",
    "    hcorrector, qcorrector, flux = MacCormack(h,q,depth,g,k,z)\n",
    "    h,q,depth = resetvalues(hnew, qnew, h, q)\n",
    "    t = t + dt\n",
    "    nt = nt + 1\n",
    "    q,h,depth,qpredictor, hpredictor = bound(q,h,depth, qpredictor, hpredictor)\n",
    "    "
   ]
  },
  {
   "cell_type": "markdown",
   "metadata": {},
   "source": [
    "## Plotting Results \n",
    "\n",
    "Final conditions are shown for water height and discharge"
   ]
  },
  {
   "cell_type": "code",
   "execution_count": 97,
   "metadata": {},
   "outputs": [
    {
     "data": {
      "image/png": "[encoded data removed]",
      "text/plain": [
       "<matplotlib.figure.Figure at 0x9e4cb38>"
      ]
     },
     "metadata": {},
     "output_type": "display_data"
    }
   ],
   "source": [
    "pyplot.clf()\n",
    "pyplot.plot(x,h)\n",
    "pyplot.plot(x,q)\n",
    "pyplot.show()"
   ]
  },
  {
   "cell_type": "markdown",
   "metadata": {},
   "source": [
    "## Without TVD term\n",
    "\n",
    "The above example isn't good to remove the TVD term because it creates too much instability and the solution collpases so it it better to look at a uniform channel, in which instabilities can still be seen. First we have to reset some of the variables, redefine the channel and the boundary conditions function"
   ]
  },
  {
   "cell_type": "code",
   "execution_count": 108,
   "metadata": {
    "collapsed": true
   },
   "outputs": [],
   "source": [
    "dt =0.1\n",
    "dx = 10.0\n",
    "nx = 50\n",
    "k= dt/dx\n",
    "TimeSim = 30\n",
    "TVDChoice = 0\n",
    "t = 0\n",
    "\n",
    "height = 0.5\n",
    "Qin = 0.1\n",
    "Hin = 0.5\n",
    "z =numpy.zeros(nx)\n",
    "h = numpy.ones(nx)*height\n",
    "q = numpy.ones(nx)*0.01\n",
    "flux=numpy.zeros(nx)\n",
    "hpredictor = h\n",
    "hcorrector = h\n",
    "qpredictor = q\n",
    "qcorrector = q\n",
    "\n",
    "TVDcont = numpy.zeros(nx)\n",
    "TVDmom = numpy.zeros(nx)\n",
    "cr = numpy.zeros(nx)\n",
    "Grplus = numpy.zeros(nx)\n",
    "Grminus = numpy.zeros(nx)\n",
    "hnew = h\n",
    "qnew = q\n",
    "depth = h-z\n",
    "\n",
    "def bound(q,h,depth,qpredictor,hpredictor):\n",
    "    q[0]=Qin\n",
    "    h[0]=Hin\n",
    "    depth[0]=0.5\n",
    "    qpredictor[0] = Qin\n",
    "    hpredictor[0] = Hin\n",
    "    return q, h, depth, qpredictor, hpredictor"
   ]
  },
  {
   "cell_type": "markdown",
   "metadata": {},
   "source": [
    "Lets have a look again at the initial conditions for this one. "
   ]
  },
  {
   "cell_type": "code",
   "execution_count": 103,
   "metadata": {},
   "outputs": [
    {
     "data": {
      "image/png": "[encoded data removed]",
      "text/plain": [
       "<matplotlib.figure.Figure at 0x89f5a90>"
      ]
     },
     "metadata": {},
     "output_type": "display_data"
    }
   ],
   "source": [
    "pyplot.clf()\n",
    "pyplot.plot(x,h)\n",
    "pyplot.show()"
   ]
  },
  {
   "cell_type": "markdown",
   "metadata": {},
   "source": [
    "Now run the time stepping function without the TVD term and plot the results"
   ]
  },
  {
   "cell_type": "code",
   "execution_count": 104,
   "metadata": {
    "scrolled": true
   },
   "outputs": [
    {
     "data": {
      "image/png": "[encoded data removed]",
      "text/plain": [
       "<matplotlib.figure.Figure at 0x8c3af98>"
      ]
     },
     "metadata": {},
     "output_type": "display_data"
    }
   ],
   "source": [
    "nt = 0\n",
    "while t < TimeSim:\n",
    "    hcorrector, qcorrector, flux = MacCormack(h,q,depth,g,k,z)\n",
    "    h,q,depth = resetvalues(hnew, qnew, h, q)\n",
    "    t = t + dt\n",
    "    nt = nt + 1\n",
    "    q,h,depth,qpredictor, hpredictor = bound(q,h,depth, qpredictor, hpredictor)\n",
    "\n",
    "pyplot.plot(x,h)\n",
    "pyplot.show()"
   ]
  },
  {
   "cell_type": "markdown",
   "metadata": {},
   "source": [
    "You can see the instability moving down the channel now running the same simulation with the TVD step turned on"
   ]
  },
  {
   "cell_type": "code",
   "execution_count": 112,
   "metadata": {},
   "outputs": [
    {
     "name": "stderr",
     "output_type": "stream",
     "text": [
      "C:\\Documents\\Anaconda3\\lib\\site-packages\\ipykernel_launcher.py:7: RuntimeWarning: invalid value encountered in double_scalars\n",
      "  import sys\n",
      "C:\\Documents\\Anaconda3\\lib\\site-packages\\ipykernel_launcher.py:8: RuntimeWarning: invalid value encountered in double_scalars\n",
      "  \n"
     ]
    },
    {
     "data": {
      "image/png": "[encoded data removed]",
      "text/plain": [
       "<matplotlib.figure.Figure at 0x8af25f8>"
      ]
     },
     "metadata": {},
     "output_type": "display_data"
    }
   ],
   "source": [
    "t = 0\n",
    "TVDChoice = 1\n",
    "Qin = 0.01\n",
    "\n",
    "nt = 0\n",
    "while t < TimeSim:\n",
    "    hcorrector, qcorrector, flux = MacCormack(h,q,depth,g,k,z)\n",
    "    h,q,depth = resetvalues(hnew, qnew, h, q)\n",
    "    t = t + dt\n",
    "    nt = nt + 1\n",
    "    q,h,depth,qpredictor, hpredictor = bound(q,h,depth, qpredictor, hpredictor)\n",
    "pyplot.clf()\n",
    "pyplot.plot(x,h)\n",
    "pyplot.show()"
   ]
  },
  {
   "cell_type": "markdown",
   "metadata": {},
   "source": [
    "Instead now you can see that there is a smooth left travelling wave moving up the channel instead"
   ]
  },
  {
   "cell_type": "code",
   "execution_count": null,
   "metadata": {
    "collapsed": true
   },
   "outputs": [],
   "source": []
  }
 ],
 "metadata": {
  "kernelspec": {
   "display_name": "Python 3",
   "language": "python",
   "name": "python3"
  },
  "language_info": {
   "codemirror_mode": {
    "name": "ipython",
    "version": 3
   },
   "file_extension": ".py",
   "mimetype": "text/x-python",
   "name": "python",
   "nbconvert_exporter": "python",
   "pygments_lexer": "ipython3",
   "version": "3.6.1"
  }
 },
 "nbformat": 4,
 "nbformat_minor": 2
}
